{
 "cells": [
  {
   "cell_type": "markdown",
   "metadata": {},
   "source": [
    "# DATA ENGINEERING ETL PROCESS "
   ]
  },
  {
   "cell_type": "markdown",
   "metadata": {},
   "source": [
    "The objective of this exercise is to run an **ETL** process:<br>\n",
    "*   Run the ETL process\n",
    "*   Extract bank and market cap data from the JSON file `bank_market_cap.json`\n",
    "*   Transform the market cap currency using the exchange rate data\n",
    "*   Load the transformed data into a seperate CSV"
   ]
  },
  {
   "cell_type": "code",
   "execution_count": 31,
   "metadata": {},
   "outputs": [],
   "source": [
    "import glob\n",
    "import pandas as pd\n",
    "from datetime import datetime\n",
    "import urllib.request"
   ]
  },
  {
   "cell_type": "markdown",
   "metadata": {},
   "source": [
    "### DOWNLOAD THE FILES"
   ]
  },
  {
   "cell_type": "code",
   "execution_count": 32,
   "metadata": {},
   "outputs": [],
   "source": [
    "url_1 = \"https://cf-courses-data.s3.us.cloud-object-storage.appdomain.cloud/IBMDeveloperSkillsNetwork-PY0221EN-SkillsNetwork/labs/module%206/Lab%20-%20Extract%20Transform%20Load/data/bank_market_cap_1.json\"\n",
    "\n",
    "url_2 = \"https://cf-courses-data.s3.us.cloud-object-storage.appdomain.cloud/IBMDeveloperSkillsNetwork-PY0221EN-SkillsNetwork/labs/module%206/Lab%20-%20Extract%20Transform%20Load/data/bank_market_cap_2.json\"\n",
    "\n",
    "url_3 = \"https://cf-courses-data.s3.us.cloud-object-storage.appdomain.cloud/IBMDeveloperSkillsNetwork-PY0221EN-SkillsNetwork/labs/module%206/Final%20Assignment/exchange_rates.csv\"\n",
    "\n",
    "download_1 = urllib.request.urlretrieve(url_1, \"ETL_BANK_MARKET_CAP_1.json\")\n",
    "download_2 = urllib.request.urlretrieve(url_2, \"ETL_BANK_MARKET_CAP_2.json\")\n",
    "download_3 = urllib.request.urlretrieve(url_3, \"ETL_EXCHANGE_RATES.csv\")"
   ]
  },
  {
   "cell_type": "markdown",
   "metadata": {},
   "source": [
    "## **EXTRACT**"
   ]
  },
  {
   "cell_type": "markdown",
   "metadata": {},
   "source": [
    "### FUNCTION TO EXTRACT JSON DATA"
   ]
  },
  {
   "cell_type": "code",
   "execution_count": 33,
   "metadata": {},
   "outputs": [],
   "source": [
    "def extract_from_json(file_to_process):\n",
    "    dataframe = pd.read_json(file_to_process)\n",
    "    return dataframe"
   ]
  },
  {
   "cell_type": "markdown",
   "metadata": {},
   "source": [
    "### FUNCTION TO EXTRACT THE DATA AND SAVE IT IN A DATA FRAME"
   ]
  },
  {
   "cell_type": "code",
   "execution_count": 34,
   "metadata": {},
   "outputs": [],
   "source": [
    "columns=['Name','Market Cap (US$ Billion)']\n",
    "def extract():\n",
    "    extracted_data = pd.DataFrame(columns=columns)\n",
    "\n",
    "    for json in glob.glob(\"ETL_BANK_MARKET_CAP_1.json\"):\n",
    "        extracted_data = extracted_data.append(extract_from_json(json), ignore_index=True)\n",
    "    return extracted_data\n",
    "\n"
   ]
  },
  {
   "cell_type": "markdown",
   "metadata": {},
   "source": [
    "## **TRANSFORM**"
   ]
  },
  {
   "cell_type": "markdown",
   "metadata": {},
   "source": [
    "### OBTAINING THE **GBP** RATE TO USE IT LATER"
   ]
  },
  {
   "cell_type": "code",
   "execution_count": 35,
   "metadata": {},
   "outputs": [],
   "source": [
    "exchange_rates = pd.read_csv(\"ETL_EXCHANGE_RATES.csv\", header=None)\n",
    "exchange_rates.columns = [\"CURRENCY\", \"RATES\"]\n",
    "exchange_rates = exchange_rates.iloc[1:,0:2] \n"
   ]
  },
  {
   "cell_type": "code",
   "execution_count": 48,
   "metadata": {},
   "outputs": [
    {
     "name": "stdout",
     "output_type": "stream",
     "text": [
      "exchange_ratae is: <class 'float'> and equals to 0.7323984208000001\n"
     ]
    }
   ],
   "source": [
    "exchange_rate = exchange_rates.loc[exchange_rates[\"CURRENCY\"]==\"GBP\"]\n",
    "exchange_rate = exchange_rate.iloc[0,1]\n",
    "exchange_rate = float(exchange_rate)\n",
    "print(\"exchange_ratae is:\", type(exchange_rate),\"and equals to\", exchange_rate)"
   ]
  },
  {
   "cell_type": "markdown",
   "metadata": {},
   "source": [
    "### TRANSFORMING THE DATA"
   ]
  },
  {
   "cell_type": "markdown",
   "metadata": {},
   "source": [
    "Using <code>exchange_rate</code> and the \"ETL_EXCHANGE_RATES.csv\" file find the exchange rate of USD to GBP. Write a transform function that\n",
    "\n",
    "1.  Changes the `Market Cap (US$ Billion)` column from USD to GBP\n",
    "2.  Rounds the Market Cap (US$ Billion)\\` column to 3 decimal places\n",
    "3.  Rename `Market Cap (US$ Billion)` to `Market Cap (GBP$ Billion)`"
   ]
  },
  {
   "cell_type": "code",
   "execution_count": 68,
   "metadata": {},
   "outputs": [
    {
     "name": "stderr",
     "output_type": "stream",
     "text": [
      "C:\\Users\\Miguel Lizarraga\\AppData\\Local\\Temp\\ipykernel_5932\\1881791872.py:6: FutureWarning: The frame.append method is deprecated and will be removed from pandas in a future version. Use pandas.concat instead.\n",
      "  extracted_data = extracted_data.append(extract_from_json(json), ignore_index=True)\n"
     ]
    }
   ],
   "source": [
    "data_extract = extract()\n",
    "cap_us=data_extract[[\"Market Cap (US$ Billion)\"]]"
   ]
  },
  {
   "cell_type": "code",
   "execution_count": null,
   "metadata": {},
   "outputs": [],
   "source": [
    "def transform(data):\n",
    "    data[\"Market Cap (US$ Billion)\"] = data[\"Market Cap (US$ Billion)\"].astype(float)\n",
    "    data[\"Market Cap (US$ Billion)\"] = round(data[\"Market Cap (US$ Billion)\"]*exchange_rate,3)\n",
    "    data[\"Market Cap (GPB$ Billion)\"] = data[\"Market Cap (US$ Billion)\"]\n",
    "    df_new = pd.DataFrame()\n",
    "    df_new[\"Name\"] = data.iloc[0:,0:1]\n",
    "    cap_us = data_extract[[\"Market Cap (US$ Billion)\"]]\n",
    "    df_new[\"Market Cap (GBP$ Billion)\"] = cap_us\n",
    "    return df_new\n",
    "\n",
    "transform(data_extract)"
   ]
  },
  {
   "cell_type": "markdown",
   "metadata": {},
   "source": [
    "## **LOAD**"
   ]
  },
  {
   "cell_type": "markdown",
   "metadata": {},
   "source": [
    "### LOAD THE DATA INTO A CSV FILE"
   ]
  },
  {
   "cell_type": "code",
   "execution_count": 39,
   "metadata": {},
   "outputs": [],
   "source": [
    "target_file = \"bank_market_cap_gbp.csv\"\n",
    "def load(target_file, data_to_load):\n",
    "    data_to_load.to_csv(target_file, index=False)"
   ]
  },
  {
   "cell_type": "markdown",
   "metadata": {},
   "source": [
    "## **LOGG FUNCTION**"
   ]
  },
  {
   "cell_type": "markdown",
   "metadata": {},
   "source": [
    "### LOGGING FUNCTION TO REGISTER THE TIMESTAMP INTO A TXT FILE"
   ]
  },
  {
   "cell_type": "code",
   "execution_count": 40,
   "metadata": {},
   "outputs": [],
   "source": [
    "def log(description_process):\n",
    "    timestamp_format = \"%Y-%h-%d-%H:%M:%S\"\n",
    "    now = datetime.now()\n",
    "    time_stamp = now.strftime(timestamp_format)\n",
    "    with open (\"registers.txt\", \"a\") as logg:\n",
    "        logg.write(time_stamp +\" ---> \" + description_process + \"\\n\")"
   ]
  },
  {
   "cell_type": "markdown",
   "metadata": {},
   "source": [
    "## **RUNNING THE EXTRACT, TRANSFORM, LOAD PROCESS**"
   ]
  },
  {
   "cell_type": "markdown",
   "metadata": {},
   "source": [
    "### EXTRACT PHASE"
   ]
  },
  {
   "cell_type": "code",
   "execution_count": 41,
   "metadata": {},
   "outputs": [],
   "source": [
    "log(\"ELT Job Started\")\n",
    "log(\"Extract phase Started\")"
   ]
  },
  {
   "cell_type": "code",
   "execution_count": 42,
   "metadata": {},
   "outputs": [
    {
     "name": "stdout",
     "output_type": "stream",
     "text": [
      "                                      Name Market Cap (US$ Billion)\n",
      "0                           JPMorgan Chase                  390.934\n",
      "1  Industrial and Commercial Bank of China                  345.214\n",
      "2                          Bank of America                  325.331\n",
      "3                              Wells Fargo                  308.013\n",
      "4                  China Construction Bank                  257.399\n"
     ]
    },
    {
     "name": "stderr",
     "output_type": "stream",
     "text": [
      "C:\\Users\\Miguel Lizarraga\\AppData\\Local\\Temp\\ipykernel_5932\\1881791872.py:6: FutureWarning: The frame.append method is deprecated and will be removed from pandas in a future version. Use pandas.concat instead.\n",
      "  extracted_data = extracted_data.append(extract_from_json(json), ignore_index=True)\n",
      "C:\\Users\\Miguel Lizarraga\\AppData\\Local\\Temp\\ipykernel_5932\\1881791872.py:6: FutureWarning: The frame.append method is deprecated and will be removed from pandas in a future version. Use pandas.concat instead.\n",
      "  extracted_data = extracted_data.append(extract_from_json(json), ignore_index=True)\n"
     ]
    }
   ],
   "source": [
    "extract()\n",
    "print(extract().head())"
   ]
  },
  {
   "cell_type": "code",
   "execution_count": 43,
   "metadata": {},
   "outputs": [],
   "source": [
    "log(\"Extract phase Ended\")"
   ]
  },
  {
   "cell_type": "markdown",
   "metadata": {},
   "source": [
    "### TRANSFORM PHASE"
   ]
  },
  {
   "cell_type": "code",
   "execution_count": 44,
   "metadata": {},
   "outputs": [],
   "source": [
    "log(\"Transfor phase Started\")"
   ]
  },
  {
   "cell_type": "code",
   "execution_count": 45,
   "metadata": {},
   "outputs": [
    {
     "name": "stdout",
     "output_type": "stream",
     "text": [
      "ORIGINAL DATA: \n",
      "\n",
      "                                       Name Market Cap (US$ Billion)\n",
      "0                           JPMorgan Chase                  390.934\n",
      "1  Industrial and Commercial Bank of China                  345.214\n",
      "2                          Bank of America                  325.331\n",
      "3                              Wells Fargo                  308.013\n",
      "4                  China Construction Bank                  257.399\n"
     ]
    },
    {
     "name": "stderr",
     "output_type": "stream",
     "text": [
      "C:\\Users\\Miguel Lizarraga\\AppData\\Local\\Temp\\ipykernel_5932\\1881791872.py:6: FutureWarning: The frame.append method is deprecated and will be removed from pandas in a future version. Use pandas.concat instead.\n",
      "  extracted_data = extracted_data.append(extract_from_json(json), ignore_index=True)\n"
     ]
    }
   ],
   "source": [
    "data_to_transform = extract()\n",
    "print(\"ORIGINAL DATA: \\n\\n\", data_to_transform.head()) #ORIGINAL DATA"
   ]
  },
  {
   "cell_type": "code",
   "execution_count": 62,
   "metadata": {},
   "outputs": [
    {
     "name": "stdout",
     "output_type": "stream",
     "text": [
      "TRANSFORMED DATA: \n",
      "\n",
      "                                        Name  Market Cap (GBP$ Billion)\n",
      "0                            JPMorgan Chase                    286.319\n",
      "1   Industrial and Commercial Bank of China                    252.834\n",
      "2                           Bank of America                    238.272\n",
      "3                               Wells Fargo                    225.588\n",
      "4                   China Construction Bank                    188.519\n",
      "..                                      ...                        ...\n",
      "65                             Ping An Bank                     27.826\n",
      "66                       Standard Chartered                     27.332\n",
      "67                     United Overseas Bank                     25.728\n",
      "68                                QNB Group                     24.579\n",
      "69                              Bank Rakyat                     24.228\n",
      "\n",
      "[70 rows x 2 columns]\n"
     ]
    }
   ],
   "source": [
    "print(\"TRANSFORMED DATA: \\n\\n\",transform(data_to_transform))\n"
   ]
  },
  {
   "cell_type": "markdown",
   "metadata": {},
   "source": [
    "### LOAD PHASE"
   ]
  },
  {
   "cell_type": "code",
   "execution_count": 64,
   "metadata": {},
   "outputs": [],
   "source": [
    "log(\"Load phase Started\")"
   ]
  },
  {
   "cell_type": "code",
   "execution_count": 65,
   "metadata": {},
   "outputs": [],
   "source": [
    "transformed_data = transform(data_to_transform)\n",
    "target_file = \"bank_market_cap_gbp.csv\"\n",
    "load(target_file,transformed_data)"
   ]
  },
  {
   "cell_type": "code",
   "execution_count": 66,
   "metadata": {},
   "outputs": [],
   "source": [
    "log(\"Load phase Ended\")"
   ]
  }
 ],
 "metadata": {
  "kernelspec": {
   "display_name": "Python 3.10.3 64-bit",
   "language": "python",
   "name": "python3"
  },
  "language_info": {
   "codemirror_mode": {
    "name": "ipython",
    "version": 3
   },
   "file_extension": ".py",
   "mimetype": "text/x-python",
   "name": "python",
   "nbconvert_exporter": "python",
   "pygments_lexer": "ipython3",
   "version": "3.10.3"
  },
  "orig_nbformat": 4,
  "vscode": {
   "interpreter": {
    "hash": "0eee2fbb4b2a29459cb3b76ce4fe0566e4223da365c76c9af49a70e5b86c1cab"
   }
  }
 },
 "nbformat": 4,
 "nbformat_minor": 2
}
